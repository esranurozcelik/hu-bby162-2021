{
  "nbformat": 4,
  "nbformat_minor": 0,
  "metadata": {
    "colab": {
      "name": "adres.txt",
      "provenance": [],
      "collapsed_sections": [],
      "toc_visible": true,
      "authorship_tag": "ABX9TyP2eb6WHom1YbuY/Iqvhfrl",
      "include_colab_link": true
    },
    "kernelspec": {
      "name": "python3",
      "display_name": "Python 3"
    },
    "language_info": {
      "name": "python"
    }
  },
  "cells": [
    {
      "cell_type": "markdown",
      "metadata": {
        "id": "view-in-github",
        "colab_type": "text"
      },
      "source": [
        "<a href=\"https://colab.research.google.com/github/esranurozcelik/hu-bby162-2021/blob/main/adres_txt.ipynb\" target=\"_parent\"><img src=\"https://colab.research.google.com/assets/colab-badge.svg\" alt=\"Open In Colab\"/></a>"
      ]
    },
    {
      "cell_type": "markdown",
      "metadata": {
        "id": "HE9x2bykDeAa"
      },
      "source": [
        "ESRA NUR ÖZÇELİK\n",
        "\n",
        "/adres defterim"
      ]
    },
    {
      "cell_type": "code",
      "metadata": {
        "id": "whw3sAW7DwUK"
      },
      "source": [
        "\n",
        "adres= \"/content/drive/MyDrive/adres.txt\"\n",
        "\n",
        "\n",
        "f= open(adres, \"a\")\n",
        "\n",
        "BirinciBilgi = input(\"Ad: \")\n",
        "İkinciBilgi = input(\"Soyad: \")\n",
        "ÜçüncüBilgi = input(\"e-Posta: \")\n",
        "\n",
        "f.write(BirinciBilgi+ \"\" +İkinciBilgi+ \"\" +ÜçüncüBilgi+ \"\" + \"\\n\")\n",
        "f.close()\n",
        "\n",
        "f = open(adres, \"r\")\n",
        "for line in f.readlines():\n",
        "  print(line)\n",
        "f.close()\n"
      ],
      "execution_count": null,
      "outputs": []
    }
  ]
}