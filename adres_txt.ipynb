{
  "nbformat": 4,
  "nbformat_minor": 0,
  "metadata": {
    "colab": {
      "name": "adres.txt",
      "provenance": [],
      "collapsed_sections": [],
      "toc_visible": true,
      "mount_file_id": "1aiheyW9hxx4CEz_GY2UGrXDgWfv43pHK",
      "authorship_tag": "ABX9TyN7uxuVm7QATdW8WguPpbBi",
      "include_colab_link": true
    },
    "kernelspec": {
      "name": "python3",
      "display_name": "Python 3"
    },
    "language_info": {
      "name": "python"
    }
  },
  "cells": [
    {
      "cell_type": "markdown",
      "metadata": {
        "id": "view-in-github",
        "colab_type": "text"
      },
      "source": [
        "<a href=\"https://colab.research.google.com/github/esranurozcelik/hu-bby162-2021/blob/main/adres_txt.ipynb\" target=\"_parent\"><img src=\"https://colab.research.google.com/assets/colab-badge.svg\" alt=\"Open In Colab\"/></a>"
      ]
    },
    {
      "cell_type": "markdown",
      "metadata": {
        "id": "HE9x2bykDeAa"
      },
      "source": [
        "ESRA NUR ÖZÇELİK\n",
        "\n",
        "/adres defterim"
      ]
    },
    {
      "cell_type": "code",
      "metadata": {
        "id": "whw3sAW7DwUK",
        "colab": {
          "base_uri": "https://localhost:8080/"
        },
        "outputId": "d1cc442b-5cd6-4557-f620-d4a54c82cc32"
      },
      "source": [
        "\n",
        "adres= \"/content/drive/MyDrive/Colab Notebooks/adres.txt\"\n",
        "\n",
        "f= open(adres, \"a\")\n",
        "\n",
        "BirinciBilgi = input(\"Ad: \")\n",
        "İkinciBilgi = input(\"Soyad: \")\n",
        "ÜçüncüBilgi = input(\"e-Posta: \")\n",
        "\n",
        "f.write(BirinciBilgi+ \"\" +İkinciBilgi+ \"\" +ÜçüncüBilgi+ \"\" + \"\\n\")\n",
        "f.close()\n",
        "\n",
        "f = open(adres, \"r\")\n",
        "for line in f.readlines():\n",
        "  print(line)\n",
        "f.close()\n"
      ],
      "execution_count": 1,
      "outputs": [
        {
          "output_type": "stream",
          "text": [
            "Ad: Esra Nur\n",
            "Soyad: Özçelik\n",
            "e-Posta: al.azgyeve07@gmail.com\n",
            "{\"nbformat\":4,\"nbformat_minor\":0,\"metadata\":{\"colab\":{\"name\":\"adres.txt\",\"provenance\":[],\"collapsed_sections\":[],\"toc_visible\":true,\"mount_file_id\":\"1aiheyW9hxx4CEz_GY2UGrXDgWfv43pHK\",\"authorship_tag\":\"ABX9TyN7uxuVm7QATdW8WguPpbBi\"},\"kernelspec\":{\"name\":\"python3\",\"display_name\":\"Python 3\"},\"language_info\":{\"name\":\"python\"}},\"cells\":[{\"cell_type\":\"markdown\",\"metadata\":{\"id\":\"HE9x2bykDeAa\"},\"source\":[\"ESRA NUR ÖZÇELİK\\n\",\"\\n\",\"/adres defterim\"]},{\"cell_type\":\"code\",\"metadata\":{\"id\":\"whw3sAW7DwUK\"},\"source\":[\"\\n\",\"adres= \\\"/content/drive/MyDrive/Colab Notebooks/adres.txt\\\"\\n\",\"\\n\",\"f= open(adres, \\\"a\\\")\\n\",\"\\n\",\"BirinciBilgi = input(\\\"Ad: \\\")\\n\",\"İkinciBilgi = input(\\\"Soyad: \\\")\\n\",\"ÜçüncüBilgi = input(\\\"e-Posta: \\\")\\n\",\"\\n\",\"f.write(BirinciBilgi+ \\\"\\\" +İkinciBilgi+ \\\"\\\" +ÜçüncüBilgi+ \\\"\\\" + \\\"\\\\n\\\")\\n\",\"f.close()\\n\",\"\\n\",\"f = open(adres, \\\"r\\\")\\n\",\"for line in f.readlines():\\n\",\"  print(line)\\n\",\"f.close()\\n\"],\"execution_count\":null,\"outputs\":[]}]}Esra NurÖzçelikal.azgyeve07@gmail.com\n",
            "\n"
          ],
          "name": "stdout"
        }
      ]
    }
  ]
}