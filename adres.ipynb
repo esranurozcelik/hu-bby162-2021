{
  "nbformat": 4,
  "nbformat_minor": 0,
  "metadata": {
    "colab": {
      "name": "adres.ipynb",
      "provenance": [],
      "collapsed_sections": [],
      "mount_file_id": "1BPqZkxe-qbFYlGPDmJy0BqKH9q6rLYmQ",
      "authorship_tag": "ABX9TyPz2uHyag9qu5N7Civyt+Ya",
      "include_colab_link": true
    },
    "kernelspec": {
      "name": "python3",
      "display_name": "Python 3"
    },
    "language_info": {
      "name": "python"
    }
  },
  "cells": [
    {
      "cell_type": "markdown",
      "metadata": {
        "id": "view-in-github",
        "colab_type": "text"
      },
      "source": [
        "<a href=\"https://colab.research.google.com/github/esranurozcelik/hu-bby162-2021/blob/main/adres.ipynb\" target=\"_parent\"><img src=\"https://colab.research.google.com/assets/colab-badge.svg\" alt=\"Open In Colab\"/></a>"
      ]
    },
    {
      "cell_type": "code",
      "metadata": {
        "colab": {
          "base_uri": "https://localhost:8080/"
        },
        "id": "fwP5vTJSvtjU",
        "outputId": "b1816991-8723-4a48-ff6b-9cce0396f9bd"
      },
      "source": [
        "#dosya okuma\n",
        "#Google Drive Bağlantısı\n",
        "\n",
        "dosya =\"/content/drive/MyDrive/Colab Notebooks/BBY162 - Programlama ve Algoritmalar/metin.txt\"\n",
        "\n",
        "f = open (dosya, \"r\") \n",
        "\n",
        "for line in f.readlines():\n",
        "    print(line)\n",
        "\n",
        "f.close()"
      ],
      "execution_count": 2,
      "outputs": [
        {
          "output_type": "stream",
          "text": [
            "Ad/ Soyad: Esra Nur Ozcelik\n",
            "\n",
            "E-posta: al.azgeyve07.com\n",
            "\n"
          ],
          "name": "stdout"
        }
      ]
    },
    {
      "cell_type": "code",
      "metadata": {
        "colab": {
          "base_uri": "https://localhost:8080/"
        },
        "id": "W5ywVK0W5rtc",
        "outputId": "5e3e6b7b-01ad-41fc-b0dc-8d9f65c6cafa"
      },
      "source": [
        "#dosya yazma\n",
        "\n",
        "dosya = \"/content/drive/MyDrive/Colab Notebooks/BBY162 - Programlama ve Algoritmalar/metin.txt\"\n",
        "\n",
        "f = open(dosya, \"r\")\n",
        "\n",
        "f = open( dosya, 'w')\n",
        "f.write (\"Esra Nur\\n\")\n",
        "f.write (\"Ozcelik\\n\")\n",
        "f.write (\"alazgeyve07@gmail.com\")\n",
        "f.close()\n",
        "\n",
        "f = open(dosya, \"r\")\n",
        "for line in f.readlines():\n",
        "  print(line)\n",
        "\n",
        "f.close()"
      ],
      "execution_count": 4,
      "outputs": [
        {
          "output_type": "stream",
          "text": [
            "Esra Nur\n",
            "\n",
            "Ozcelik\n",
            "\n",
            "alazgeyve07@gmail.com\n"
          ],
          "name": "stdout"
        }
      ]
    }
  ]
}