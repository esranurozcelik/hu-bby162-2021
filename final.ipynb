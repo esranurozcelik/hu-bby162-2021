{
  "nbformat": 4,
  "nbformat_minor": 0,
  "metadata": {
    "colab": {
      "name": "final.ipynb",
      "provenance": [],
      "collapsed_sections": [],
      "mount_file_id": "1_8FmDP8KjWoDpmow96IP43UdhzDYfNdJ",
      "authorship_tag": "ABX9TyMxjsZx5bS9iHiNrkQge9wb",
      "include_colab_link": true
    },
    "kernelspec": {
      "name": "python3",
      "display_name": "Python 3"
    },
    "language_info": {
      "name": "python"
    }
  },
  "cells": [
    {
      "cell_type": "markdown",
      "metadata": {
        "id": "view-in-github",
        "colab_type": "text"
      },
      "source": [
        "<a href=\"https://colab.research.google.com/github/esranurozcelik/hu-bby162-2021/blob/main/final.ipynb\" target=\"_parent\"><img src=\"https://colab.research.google.com/assets/colab-badge.svg\" alt=\"Open In Colab\"/></a>"
      ]
    },
    {
      "cell_type": "markdown",
      "metadata": {
        "id": "MsyTLu6E5fV7"
      },
      "source": [
        "Esra Nur Özçelik/\n",
        "\n",
        "\n",
        "Katalog Kaydı"
      ]
    },
    {
      "cell_type": "code",
      "metadata": {
        "id": "3uIV3N8SirY0",
        "colab": {
          "base_uri": "https://localhost:8080/"
        },
        "outputId": "d4cde5cb-a0ad-4860-aa9e-959f068250c4"
      },
      "source": [
        "#Katalog Kaydı\n",
        "#Katalog Kaydı\n",
        "\n",
        "dosya = \"/content/drive/MyDrive/Colab Notebooks/BBY162 - Programlama ve Algoritmalar/final.txt\"\n",
        "\n",
        "print(\"--- Kataloglama Sistemime Hoş Geldiniz ---\")\n",
        "\n",
        "def eserListele():\n",
        "  f = open(dosya, 'r')\n",
        "  for line in f.readlines():\n",
        "    print(line)\n",
        "  f.close()\n",
        "\n",
        "def eserKaydet():\n",
        "  eserAdi = input(\"Eser Adını Giriniz Lütfen: \")\n",
        "  eserYazari = input(\"Eserin Yazarını Giriniz Lütfen: \")\n",
        "  eserYayinevi = input(\"Eserin Yayınevi Bilgisini Giriniz Lütfen: \")\n",
        "  eserIsbn = input(\"Eserin ISBN Bilgilerini Giriniz Lütfen: \")\n",
        "  f = open(dosya, 'a' )\n",
        "  f.write(eserAdi + \" , \" + eserYazari + \" , \" + eserYayinevi + \" , \" + eserIsbn + '\\n')\n",
        "  print(\"Kayıt işlemi başarılı oldu.\")\n",
        "  f.close()\n",
        "  \n",
        "islemSecme = [\"listele\", \"ekle\", \"bitir\"]\n",
        "while islemSecme:\n",
        "  girilen_islem = input(\"Katalogdaki eserleri görüntülemek için 'listele' yazınız. \\n\"\n",
        "      \"Yeni bir eser kaydetmek için 'ekle' yazınız.\\n\"     \n",
        "      \"Sistemden çıkmak için 'bitir' yazınız.\\n\"\n",
        "      \"Yapmak istediğiniz işlem için ilgili kelimeyi yazınız: \")\n",
        "  \n",
        "  if girilen_islem == islemSecme[0]:\n",
        "    print(\"--- Kataloglama Sistemime Hoş Geldiniz ---\")\n",
        "    eserListele()\n",
        "  elif girilen_islem == islemSecme[1]:\n",
        "    print(\"Kataloğa yeni bir kayıt giriniz.\")\n",
        "    eserKaydet()\n",
        "  elif girilen_islem == islemSecme[2]:\n",
        "    break"
      ],
      "execution_count": 5,
      "outputs": [
        {
          "output_type": "stream",
          "text": [
            "--- Kataloglama Sistemime Hoş Geldiniz ---\n",
            "Katalogdaki eserleri görüntülemek için 'listele' yazınız. \n",
            "Yeni bir eser kaydetmek için 'ekle' yazınız.\n",
            "Sistemden çıkmak için 'bitir' yazınız.\n",
            "Yapmak istediğiniz işlem için ilgili kelimeyi yazınız: ekle\n",
            "Kataloğa yeni bir kayıt giriniz.\n",
            "Eser Adını Giriniz Lütfen: De Profundis\n",
            "Eserin Yazarını Giriniz Lütfen: Oscar Wilde\n",
            "Eserin Yayınevi Bilgisini Giriniz Lütfen: Can Yayınları\n",
            "Eserin ISBN Bilgilerini Giriniz Lütfen: 9789755100630\n",
            "Kayıt işlemi başarılı oldu.\n",
            "Katalogdaki eserleri görüntülemek için 'listele' yazınız. \n",
            "Yeni bir eser kaydetmek için 'ekle' yazınız.\n",
            "Sistemden çıkmak için 'bitir' yazınız.\n",
            "Yapmak istediğiniz işlem için ilgili kelimeyi yazınız: listele\n",
            "--- Kataloglama Sistemime Hoş Geldiniz ---\n",
            "Ilyada, Homeros, Can Yayınları,9755103775\n",
            "\n",
            "Solen, Platon, Iş Bankası Yayınları, 9789754587623\n",
            "\n",
            "De Profundis, Oscar Wilde, Can Yayınları, 9789755100630\n",
            "\n",
            "Siirler, Ahmet Muhip Dıranas, Turkiye Iş Bankası KulturYayınları, 9789754054532\n",
            "\n",
            "Duşsel Varlıklar Kitabı, Jorge Luis Borges, Iletişim Yayıncılık, 9789750517235\n",
            "\n",
            "Burukluk, Cioran, Metis Yayıncılık, 9789753420389\n",
            "\n",
            "Kurtlarla Koşan Kadınlar, Clarissa Estes, Ayrıntı Yayınları, 9789755393636\n",
            "\n",
            "Frankenstein, Mary Shelly, Iletişim Yayıncılık, 9786053606604\n",
            "\n",
            "Kara Kitap, Orhan Pamuk, Yapı Kredi Yayınları, 9789750826139\n",
            "\n",
            "Altın Gozde Yansımalar, Carson McCullers, Türkiye Iş Bankası KulturYayınları, 9786053320449\n",
            "\n",
            "Kucuk Prens, Antoine de Saint Exupery, Can Yayınları, 9789756842010De Profundis , Oscar Wilde , Can Yayınları , 9789755100630\n",
            "\n",
            "De Profundis , Oscar Wilde , Can Yayınları , 9789755100630De Profundis , Oscar Wilde , Can Yayınları , 9789755100630\n",
            "\n",
            "Katalogdaki eserleri görüntülemek için 'listele' yazınız. \n",
            "Yeni bir eser kaydetmek için 'ekle' yazınız.\n",
            "Sistemden çıkmak için 'bitir' yazınız.\n",
            "Yapmak istediğiniz işlem için ilgili kelimeyi yazınız: bitir\n"
          ],
          "name": "stdout"
        }
      ]
    }
  ]
}